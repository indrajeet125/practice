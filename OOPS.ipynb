{
 "cells": [
  {
   "cell_type": "code",
   "execution_count": null,
   "metadata": {},
   "outputs": [],
   "source": [
    "class P1:\n",
    "    def m1(self):\n",
    "        print(\"P1 Method \")\n",
    "class P2:\n",
    "    def m1(self):\n",
    "        print(\"P2 Method\")\n",
    "class C(P1,P2):\n",
    "    pass\n",
    "\n",
    "c=C()\n",
    "c.m1()\n"
   ]
  },
  {
   "cell_type": "code",
   "execution_count": null,
   "metadata": {},
   "outputs": [],
   "source": [
    "import gc\n",
    "import time\n",
    "class Test:\n",
    "    def __init__(self):\n",
    "        print(\"Object is created \")\n",
    "    \n",
    "    def __del__(self):\n",
    "        print(\"all requrement full fil and Object Deleted ...\")\n",
    "t1=Test()\n",
    "t2=t1\n",
    "t3=t2\n",
    "t4=t3\n",
    "\n",
    "del t1\n",
    "time.sleep(2)\n",
    "print(\"After deleting T1 Object Not Destroyed \")\n",
    "\n",
    "del t2 \n",
    "del t3\n",
    "time.sleep(2)\n",
    "print(\"After deleting T2 t3 Object Not Destroyed \")\n",
    "del t4\n",
    "time.sleep(3)\n",
    "print(\"End of program  and all object are deleted \")\n"
   ]
  },
  {
   "cell_type": "code",
   "execution_count": null,
   "metadata": {},
   "outputs": [],
   "source": [
    "list =[Test(),Test(),Test(),Test()]\n",
    "time.sleep(2)\n",
    "list=None\n",
    "time.sleep(1)\n",
    "print(\"End of Appliation \")"
   ]
  },
  {
   "cell_type": "code",
   "execution_count": 1,
   "metadata": {},
   "outputs": [
    {
     "name": "stdout",
     "output_type": "stream",
     "text": [
      "Object is created \n",
      "Object is created \n",
      "all requrement full fil and Object Deleted ...\n",
      "3\n"
     ]
    }
   ],
   "source": [
    "import sys\n",
    "import gc\n",
    "import time\n",
    "class Test:\n",
    "    def __init__(self):\n",
    "        print(\"Object is created \")\n",
    "    def __del__(self):\n",
    "        print(\"all requrement full fil and Object Deleted ...\")\n",
    "t1=Test()\n",
    "time.sleep(2)\n",
    "\n",
    "t1=Test()\n",
    "time.sleep(2)\n",
    "t2=t1\n",
    "print(sys.getrefcount(t1))    \n"
   ]
  },
  {
   "cell_type": "code",
   "execution_count": 38,
   "metadata": {},
   "outputs": [
    {
     "name": "stdout",
     "output_type": "stream",
     "text": [
      "Called \n",
      "Called \n",
      "Called \n",
      "Called \n",
      "Called \n",
      "Called \n",
      "<__main__.Book object at 0x000002094376C250>\n"
     ]
    }
   ],
   "source": [
    "# opertor Overloading \n",
    "class Book:\n",
    "    def __init__(self,pages):\n",
    "        self.pages=pages\n",
    "    def __add__(self,other):\n",
    "        print(\"Called \")\n",
    "        return Book(self.pages+other.pages);\n",
    "    def __str__(self):\n",
    "        return \"I Am a Object if calling class \"+str(self.pages)\n",
    "    \n",
    "b1=Book(100)\n",
    "b2=Book(200)\n",
    "b3=Book(300)\n",
    "b4=Book(400)\n",
    "\n",
    "b5=Book(500)\n",
    "b6=Book(600)\n",
    "b7=Book(700)\n",
    "b7=Book(700)\n",
    "\n",
    "print(b1+b2+b3+b4+b5+b6+b7)\n"
   ]
  }
 ],
 "metadata": {
  "interpreter": {
   "hash": "9b9c2c0f3bb24af24075e74a0affdca490cc30014226d11df2add8b2138b86c3"
  },
  "kernelspec": {
   "display_name": "Python 3.9.1 64-bit",
   "language": "python",
   "name": "python3"
  },
  "language_info": {
   "codemirror_mode": {
    "name": "ipython",
    "version": 3
   },
   "file_extension": ".py",
   "mimetype": "text/x-python",
   "name": "python",
   "nbconvert_exporter": "python",
   "pygments_lexer": "ipython3",
   "version": "3.9.1"
  },
  "orig_nbformat": 4
 },
 "nbformat": 4,
 "nbformat_minor": 2
}
