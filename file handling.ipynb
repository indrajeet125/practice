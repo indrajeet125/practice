{
 "cells": [
  {
   "cell_type": "markdown",
   "metadata": {},
   "source": [
    "# Working with read "
   ]
  },
  {
   "cell_type": "code",
   "execution_count": 57,
   "metadata": {},
   "outputs": [
    {
     "name": "stdout",
     "output_type": "stream",
     "text": [
      "['Deep into that darkness peering,\\n', 'Long I stood there, wondering, fearing,\\n', 'Doubting, dreaming dreams no mortals\\n', 'Ever dared to dream before;\\n', 'But the silence was unbroken,\\n', 'And the stillness gave no token,\\n', 'And the only word there spoken\\n', 'Was the whispered word, \"Lenore!\"\\n', 'This I whispered, and an echo Murmured back the word, \"Lenore!\"\\n', 'Merely this, and nothing more.']\n"
     ]
    }
   ],
   "source": [
    "\n",
    "source = open(\"text.txt\",\"r\")\n",
    " \n",
    "# text=source.read()\n",
    "# print(text)\n",
    "# print(\"\\n\\n\")\n",
    "\n",
    "# text=source.read(1000)\n",
    "# print(text)\n",
    "# print(type(text))\n",
    "\n",
    "# text=source.readline()\n",
    "# print(text)\n",
    "# print(type(text))\n",
    "\n",
    "# text=source.readlines()\n",
    "# print(text)\n",
    "# print(type(text))\n",
    "# print(text[2])\n",
    "\n",
    "lst=[ line for line in source]\n",
    "print(lst)\n",
    "     \n",
    "\n",
    "\n",
    "# print(source.readable())\n",
    " \n",
    "source.close()\n"
   ]
  }
 ],
 "metadata": {
  "interpreter": {
   "hash": "9b9c2c0f3bb24af24075e74a0affdca490cc30014226d11df2add8b2138b86c3"
  },
  "kernelspec": {
   "display_name": "Python 3.9.1 64-bit",
   "language": "python",
   "name": "python3"
  },
  "language_info": {
   "codemirror_mode": {
    "name": "ipython",
    "version": 3
   },
   "file_extension": ".py",
   "mimetype": "text/x-python",
   "name": "python",
   "nbconvert_exporter": "python",
   "pygments_lexer": "ipython3",
   "version": "3.9.1"
  },
  "orig_nbformat": 4
 },
 "nbformat": 4,
 "nbformat_minor": 2
}
